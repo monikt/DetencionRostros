import cv2
import osss
import numpy as np
#El primer paso es crear una carpeta en donde se van a almacenar los rostros encontrados
personName = 'Moni'
dataPath = 'C:/Users/Monica/Documents/workspace/detencionRostros' #Cambia a la ruta donde hayas almacenado Data
personPath = dataPath + '/' + personName
# Creacion de carpeta
if not os.path.exists(personPath):
	print('Carpeta creada: ',personPath)
	os.makedirs(personPath)

#faceClassif  = cv2.CascadeClassifier('haarcascade_frontalface_default.xml')
#importamos codigo ya con el suficiente entrenamiento para detectar rostros.
faceClassif = cv2.CascadeClassifier(cv2.data.haarcascades + 'haarcascade_frontalface_default.xml')
image = cv2.imread('C:/Users/Monica/Documents/workspace/oficina.png')
gray = cv2.cvtColor(image, cv2.COLOR_BGR2GRAY) #Convertimos la imagen a escala de grises

faces = faceClassif.detectMultiScale(gray,
scaleFactor=1.1,
minNeighbors=5,
minSize=(30,30),
maxSize=(200,200))
# Clasificamos en la imagen como queremos que la IA detecte los rostros.

count = 0
# Se realiza la iteracion de acuerdo a la clasificación en vectores x y y, en donde se requiere sobreescribir los rostros que identifico
for (x,y,w,h) in faces: 
    cv2.rectangle(image,(x,y),(x+w,y+h),(0,255,0),2)
    rostro = image[y:y+h,x:x+w]
    rostro = cv2.resize(rostro,(150,150),interpolation=cv2.INTER_CUBIC)
    cv2.imwrite(personPath + '/rotro_{}.jpg'.format(count),rostro)
    count = count + 1

cv2.imshow('image',image)
cv2.waitKey(0)
cv2.destroyAllWindows()
